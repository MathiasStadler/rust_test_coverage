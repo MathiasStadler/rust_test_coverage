{
 "cells": [
  {
   "cell_type": "markdown",
   "id": "e180215c",
   "metadata": {},
   "source": [
    "# [Jupyter Notebook RUST Kernel](https://developers.stellar.org/docs/tools/developer-tools/jupyter-notebooks)"
   ]
  },
  {
   "cell_type": "markdown",
   "id": "9411e703",
   "metadata": {},
   "source": [
    "Install Visual Studio Code (VSCode)\n",
    "\n",
    "Install the Jupyter Notebook extension in VSCode\n",
    "\n",
    "Install the evcxr Rust Jupyter kernel with:\n",
    "\n",
    "cargo install --locked evcxr_jupyter\n",
    "evcxr_jupyter --install\n",
    "\n",
    "Run the Create: New Jupyter Notebook command in VSCode\n",
    "\n",
    "Click the Select Kernel button in the top right\n",
    "\n",
    "Select Jupyter Kernel...\n",
    "\n",
    "Select Rust by searching for Rust"
   ]
  },
  {
   "cell_type": "markdown",
   "id": "2b0087d9",
   "metadata": {},
   "source": [
    "##  Test rust Kernel"
   ]
  },
  {
   "cell_type": "code",
   "execution_count": null,
   "id": "eb32fe83",
   "metadata": {},
   "outputs": [
    {
     "name": "stdout",
     "output_type": "stream",
     "text": [
      "Welcome Rust inside Jupyter Notebook ;-)\n"
     ]
    },
    {
     "data": {
      "text/plain": [
       "()"
      ]
     },
     "execution_count": 3,
     "metadata": {},
     "output_type": "execute_result"
    }
   ],
   "source": [
    "println!(\"Welcome Rust inside Jupyter Notebook ;-)\")"
   ]
  },
  {
   "cell_type": "markdown",
   "id": "ef71a4b5",
   "metadata": {},
   "source": [
    "## [Cannot stop active code in jupyter notebook vscode](https://discourse.julialang.org/t/cannot-stop-active-code-in-jupyter-notebook-vscode/119663)"
   ]
  },
  {
   "cell_type": "markdown",
   "id": "7e4511aa",
   "metadata": {},
   "source": [
    "## [Force stop/kill jupyter notebook](https://stackoverflow.com/questions/75686655/shut-down-jupyter-notebook-kernels-on-vs-code/77041352)\n",
    "\n",
    "```bash\n",
    "pkill -f \"jupyter\".\n",
    "```\n"
   ]
  },
  {
   "cell_type": "markdown",
   "id": "b8d94b74",
   "metadata": {},
   "source": [
    "## date  today\n",
    "\n",
    "```bash\n",
    "date\n",
    "Fri May  2 04:00:08 PM CEST 2025\n",
    "```\n",
    "\n",
    "## os\n",
    "\n",
    "```bash\n",
    "cat /etc/os-release \n",
    "PRETTY_NAME=\"Debian GNU/Linux 12 (bookworm)\"\n",
    "NAME=\"Debian GNU/Linux\"\n",
    "VERSION_ID=\"12\"\n",
    "VERSION=\"12 (bookworm)\"\n",
    "VERSION_CODENAME=bookworm\n",
    "ID=debian\n",
    "HOME_URL=\"https://www.debian.org/\"\n",
    "SUPPORT_URL=\"https://www.debian.org/support\"\n",
    "BUG_REPORT_URL=\"https://bugs.debian.org/\"\n",
    "```\n"
   ]
  },
  {
   "cell_type": "markdown",
   "id": "07bc824a",
   "metadata": {},
   "source": [
    "## Start tutorial"
   ]
  },
  {
   "cell_type": "markdown",
   "id": "998c17c2",
   "metadata": {},
   "source": [
    "### Prerequisites - You have the last stable version of rust\n",
    "\n",
    "```bash\n",
    "rustc --version\n",
    "```\n",
    "\n",
    "## Update it to the last stable version\n",
    "\n",
    "```bash\n",
    "\n",
    "rustup update stable\n",
    "\n",
    "```\n",
    "\n",
    "- command output\n",
    "\n",
    "```text\n",
    "info: syncing channel updates for 'stable-x86_64-unknown-linux-gnu'\n",
    "\n",
    "  stable-x86_64-unknown-linux-gnu unchanged - rustc 1.86.0 (05f9846f8 2025-03-31)\n",
    "\n",
    "info: checking for self-update\n",
    "```"
   ]
  },
  {
   "cell_type": "markdown",
   "id": "4f1c891d",
   "metadata": {},
   "source": [
    "## install rust nightly last version - should be necessary for this tutorial\n",
    "\n",
    "- command\n",
    "\n",
    "```bash\n",
    "rustup toolchain install nightly\n",
    "```\n",
    "\n",
    "- output\n",
    "\n",
    "```text\n",
    "rustup toolchain install nightly\n",
    "info: syncing channel updates for 'nightly-x86_64-unknown-linux-gnu'\n",
    "info: latest update on 2025-05-02, rust version 1.88.0-nightly (3350c1eb3 2025-05-01)\n",
    "info: downloading component 'cargo'\n",
    "info: downloading component 'clippy'\n",
    "info: downloading component 'rust-docs'\n",
    "info: downloading component 'rust-std'\n",
    "info: downloading component 'rustc'\n",
    "info: downloading component 'rustfmt'\n",
    "info: installing component 'cargo'\n",
    "info: installing component 'clippy'\n",
    "info: installing component 'rust-docs'\n",
    "info: installing component 'rust-std'\n",
    "info: installing component 'rustc'\n",
    "info: installing component 'rustfmt'\n",
    "```\n",
    "\n"
   ]
  },
  {
   "cell_type": "markdown",
   "id": "f42898ec",
   "metadata": {},
   "source": [
    "## How do I tell which toolchain my Rust compiler is using? [Link](https://stackoverflow.com/questions/50687861/how-do-i-tell-which-windows-toolchain-my-rust-compiler-is-using)\n",
    "\n",
    "- command\n",
    "  \n",
    "``bash\n",
    "rustup show\n",
    "```\n",
    "\n",
    "- output\n",
    "\n",
    "```text\n",
    "rustup show\n",
    "Default host: x86_64-unknown-linux-gnu\n",
    "rustup home:  /home/trapapa/.rustup\n",
    "\n",
    "installed toolchains\n",
    "--------------------\n",
    "stable-x86_64-unknown-linux-gnu (active, default)\n",
    "nightly-x86_64-unknown-linux-gnu\n",
    "\n",
    "active toolchain\n",
    "----------------\n",
    "name: stable-x86_64-unknown-linux-gnu\n",
    "active because: it's the default toolchain\n",
    "installed targets:\n",
    "  x86_64-unknown-linux-gnu\n",
    "```"
   ]
  },
  {
   "cell_type": "code",
   "execution_count": null,
   "id": "bca1130f",
   "metadata": {},
   "outputs": [],
   "source": [
    "## switch global "
   ]
  }
 ],
 "metadata": {
  "kernelspec": {
   "display_name": "Rust",
   "language": "rust",
   "name": "rust"
  },
  "language_info": {
   "codemirror_mode": "rust",
   "file_extension": ".rs",
   "mimetype": "text/rust",
   "name": "rust",
   "pygment_lexer": "rust",
   "version": ""
  }
 },
 "nbformat": 4,
 "nbformat_minor": 5
}
