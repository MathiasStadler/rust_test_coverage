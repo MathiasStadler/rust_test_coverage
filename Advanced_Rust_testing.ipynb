{
 "cells": [
  {
   "cell_type": "markdown",
   "id": "e180215c",
   "metadata": {},
   "source": [
    "# [Jupyter Notebook RUST Kernel](https://developers.stellar.org/docs/tools/developer-tools/jupyter-notebooks)"
   ]
  },
  {
   "cell_type": "markdown",
   "id": "9411e703",
   "metadata": {},
   "source": [
    "Install Visual Studio Code (VSCode)\n",
    "\n",
    "Install the Jupyter Notebook extension in VSCode\n",
    "\n",
    "Install the evcxr Rust Jupyter kernel with:\n",
    "\n",
    "cargo install --locked evcxr_jupyter\n",
    "evcxr_jupyter --install\n",
    "\n",
    "Run the Create: New Jupyter Notebook command in VSCode\n",
    "\n",
    "Click the Select Kernel button in the top right\n",
    "\n",
    "Select Jupyter Kernel...\n",
    "\n",
    "Select Rust by searching for Rust"
   ]
  },
  {
   "cell_type": "markdown",
   "id": "2b0087d9",
   "metadata": {},
   "source": [
    "##  Test rust Kernel"
   ]
  },
  {
   "cell_type": "code",
   "execution_count": 3,
   "id": "eb32fe83",
   "metadata": {
    "vscode": {
     "languageId": "rust"
    }
   },
   "outputs": [
    {
     "name": "stdout",
     "output_type": "stream",
     "text": [
      "Welcome Rust inside Jupyter Notebook ;-)\n"
     ]
    },
    {
     "data": {
      "text/plain": [
       "()"
      ]
     },
     "execution_count": 3,
     "metadata": {},
     "output_type": "execute_result"
    }
   ],
   "source": [
    "println!(\"Welcome Rust inside Jupyter Notebook ;-)\")"
   ]
  },
  {
   "cell_type": "markdown",
   "id": "ef71a4b5",
   "metadata": {},
   "source": [
    "## [Cannot stop active code in jupyter notebook vscode](https://discourse.julialang.org/t/cannot-stop-active-code-in-jupyter-notebook-vscode/119663)"
   ]
  },
  {
   "cell_type": "markdown",
   "id": "7e4511aa",
   "metadata": {},
   "source": [
    "## [Force stop/kill jupyter notebook](https://stackoverflow.com/questions/75686655/shut-down-jupyter-notebook-kernels-on-vs-code/77041352)\n",
    "\n",
    "```bash\n",
    "pkill -f \"jupyter\".\n",
    "```"
   ]
  }
 ],
 "metadata": {
  "kernelspec": {
   "display_name": "Rust",
   "language": "rust",
   "name": "rust"
  },
  "language_info": {
   "codemirror_mode": "rust",
   "file_extension": ".rs",
   "mimetype": "text/rust",
   "name": "Rust",
   "pygment_lexer": "rust",
   "version": ""
  }
 },
 "nbformat": 4,
 "nbformat_minor": 5
}
